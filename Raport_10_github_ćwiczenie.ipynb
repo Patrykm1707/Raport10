{
  "nbformat": 4,
  "nbformat_minor": 0,
  "metadata": {
    "colab": {
      "provenance": [],
      "authorship_tag": "ABX9TyM5at3pfrYbez8X35GkcO7L",
      "include_colab_link": true
    },
    "kernelspec": {
      "name": "python3",
      "display_name": "Python 3"
    },
    "language_info": {
      "name": "python"
    }
  },
  "cells": [
    {
      "cell_type": "markdown",
      "metadata": {
        "id": "view-in-github",
        "colab_type": "text"
      },
      "source": [
        "<a href=\"https://colab.research.google.com/github/Patrykm1707/Raport10/blob/main/Raport_10_github_%C4%87wiczenie.ipynb\" target=\"_parent\"><img src=\"https://colab.research.google.com/assets/colab-badge.svg\" alt=\"Open In Colab\"/></a>"
      ]
    },
    {
      "cell_type": "markdown",
      "source": [
        "#Raport 8"
      ],
      "metadata": {
        "id": "c3as0aDpS9Ks"
      }
    },
    {
      "cell_type": "markdown",
      "source": [
        "##Rozwiązania twórców projektu"
      ],
      "metadata": {
        "id": "8r-niye_qWOM"
      }
    },
    {
      "cell_type": "code",
      "source": [
        "from csv import reader\n",
        "\n",
        "### The Google Play data set ###\n",
        "opened_file = open('google_wget.csv')\n",
        "read_file = reader(opened_file)\n",
        "android = list(read_file)\n",
        "android_header = android[0]\n",
        "android = android[1:]\n",
        "\n",
        "### The App Store data set ###\n",
        "opened_file = open('apple_wget.csv')\n",
        "read_file = reader(opened_file)\n",
        "ios = list(read_file)\n",
        "ios_header = ios[0]\n",
        "ios = ios[1:]"
      ],
      "metadata": {
        "id": "2u8g2Zi6qa5L"
      },
      "execution_count": null,
      "outputs": []
    },
    {
      "cell_type": "code",
      "source": [
        "\n",
        "def explore_data(dataset, start, end, rows_and_columns=False):\n",
        "    dataset_slice = dataset[start:end]\n",
        "    for row in dataset_slice:\n",
        "        print(row)\n",
        "        print('\\n') # adds a new (empty) line between rows\n",
        "\n",
        "    if rows_and_columns:\n",
        "        print('Number of rows:', len(dataset))\n",
        "        print('Number of columns:', len(dataset[0]))\n",
        "\n",
        "print(android_header)\n",
        "print('\\n')\n",
        "explore_data(android, 0, 3, True)"
      ],
      "metadata": {
        "colab": {
          "base_uri": "https://localhost:8080/"
        },
        "id": "h8Y0J5bxqx4D",
        "outputId": "a9923b89-c93f-4a16-de3b-6e7872b15f96"
      },
      "execution_count": null,
      "outputs": [
        {
          "output_type": "stream",
          "name": "stdout",
          "text": [
            "['App', 'Category', 'Rating', 'Reviews', 'Size', 'Installs', 'Type', 'Price', 'Content Rating', 'Genres', 'Last Updated', 'Current Ver', 'Android Ver']\n",
            "\n",
            "\n",
            "['Photo Editor & Candy Camera & Grid & ScrapBook', 'ART_AND_DESIGN', '4.1', '159', '19M', '10,000+', 'Free', '0', 'Everyone', 'Art & Design', 'January 7, 2018', '1.0.0', '4.0.3 and up']\n",
            "\n",
            "\n",
            "['Coloring book moana', 'ART_AND_DESIGN', '3.9', '967', '14M', '500,000+', 'Free', '0', 'Everyone', 'Art & Design;Pretend Play', 'January 15, 2018', '2.0.0', '4.0.3 and up']\n",
            "\n",
            "\n",
            "['U Launcher Lite – FREE Live Cool Themes, Hide Apps', 'ART_AND_DESIGN', '4.7', '87510', '8.7M', '5,000,000+', 'Free', '0', 'Everyone', 'Art & Design', 'August 1, 2018', '1.2.4', '4.0.3 and up']\n",
            "\n",
            "\n",
            "Number of rows: 10841\n",
            "Number of columns: 13\n"
          ]
        }
      ]
    },
    {
      "cell_type": "code",
      "source": [
        "print(ios_header)\n",
        "print('\\n')\n",
        "explore_data(ios, 0, 3, True)"
      ],
      "metadata": {
        "colab": {
          "base_uri": "https://localhost:8080/"
        },
        "id": "M1BFNzPNqzXk",
        "outputId": "2941b99e-3610-49bc-e33d-ee66689751da"
      },
      "execution_count": null,
      "outputs": [
        {
          "output_type": "stream",
          "name": "stdout",
          "text": [
            "['id', 'track_name', 'size_bytes', 'currency', 'price', 'rating_count_tot', 'rating_count_ver', 'user_rating', 'user_rating_ver', 'ver', 'cont_rating', 'prime_genre', 'sup_devices.num', 'ipadSc_urls.num', 'lang.num', 'vpp_lic']\n",
            "\n",
            "\n",
            "['284882215', 'Facebook', '389879808', 'USD', '0.0', '2974676', '212', '3.5', '3.5', '95.0', '4+', 'Social Networking', '37', '1', '29', '1']\n",
            "\n",
            "\n",
            "['389801252', 'Instagram', '113954816', 'USD', '0.0', '2161558', '1289', '4.5', '4.0', '10.23', '12+', 'Photo & Video', '37', '0', '29', '1']\n",
            "\n",
            "\n",
            "['529479190', 'Clash of Clans', '116476928', 'USD', '0.0', '2130805', '579', '4.5', '4.5', '9.24.12', '9+', 'Games', '38', '5', '18', '1']\n",
            "\n",
            "\n",
            "Number of rows: 7197\n",
            "Number of columns: 16\n"
          ]
        }
      ]
    },
    {
      "cell_type": "code",
      "source": [
        "print(android[10472])  # incorrect row\n",
        "print('\\n')\n",
        "print(android_header)  # header\n",
        "print('\\n')\n",
        "print(android[0])      # correct row"
      ],
      "metadata": {
        "colab": {
          "base_uri": "https://localhost:8080/"
        },
        "id": "Li0bFyG-q1A8",
        "outputId": "bc8f1b19-6ee7-4e48-b6b4-047d3982552a"
      },
      "execution_count": null,
      "outputs": [
        {
          "output_type": "stream",
          "name": "stdout",
          "text": [
            "['Life Made WI-Fi Touchscreen Photo Frame', '1.9', '19', '3.0M', '1,000+', 'Free', '0', 'Everyone', '', 'February 11, 2018', '1.0.19', '4.0 and up']\n",
            "\n",
            "\n",
            "['App', 'Category', 'Rating', 'Reviews', 'Size', 'Installs', 'Type', 'Price', 'Content Rating', 'Genres', 'Last Updated', 'Current Ver', 'Android Ver']\n",
            "\n",
            "\n",
            "['Photo Editor & Candy Camera & Grid & ScrapBook', 'ART_AND_DESIGN', '4.1', '159', '19M', '10,000+', 'Free', '0', 'Everyone', 'Art & Design', 'January 7, 2018', '1.0.0', '4.0.3 and up']\n"
          ]
        }
      ]
    },
    {
      "cell_type": "code",
      "source": [
        "print(len(android))\n",
        "del android[10472]  # don't run this more than once\n",
        "print(len(android))"
      ],
      "metadata": {
        "colab": {
          "base_uri": "https://localhost:8080/"
        },
        "id": "t-SlhqNFq2VK",
        "outputId": "5ce49b1d-7fba-4031-b633-94cc051af63e"
      },
      "execution_count": null,
      "outputs": [
        {
          "output_type": "stream",
          "name": "stdout",
          "text": [
            "10841\n",
            "10840\n"
          ]
        }
      ]
    },
    {
      "cell_type": "code",
      "source": [
        "for app in android:\n",
        "    name = app[0]\n",
        "    if name == 'Instagram':\n",
        "        print(app)"
      ],
      "metadata": {
        "colab": {
          "base_uri": "https://localhost:8080/"
        },
        "id": "-Nl3o2YLq3ro",
        "outputId": "c920697d-4322-4c73-effb-26ded5c23e34"
      },
      "execution_count": null,
      "outputs": [
        {
          "output_type": "stream",
          "name": "stdout",
          "text": [
            "['Instagram', 'SOCIAL', '4.5', '66577313', 'Varies with device', '1,000,000,000+', 'Free', '0', 'Teen', 'Social', 'July 31, 2018', 'Varies with device', 'Varies with device']\n",
            "['Instagram', 'SOCIAL', '4.5', '66577446', 'Varies with device', '1,000,000,000+', 'Free', '0', 'Teen', 'Social', 'July 31, 2018', 'Varies with device', 'Varies with device']\n",
            "['Instagram', 'SOCIAL', '4.5', '66577313', 'Varies with device', '1,000,000,000+', 'Free', '0', 'Teen', 'Social', 'July 31, 2018', 'Varies with device', 'Varies with device']\n",
            "['Instagram', 'SOCIAL', '4.5', '66509917', 'Varies with device', '1,000,000,000+', 'Free', '0', 'Teen', 'Social', 'July 31, 2018', 'Varies with device', 'Varies with device']\n"
          ]
        }
      ]
    },
    {
      "cell_type": "code",
      "source": [
        "duplicate_apps = []\n",
        "unique_apps = []\n",
        "\n",
        "for app in android:\n",
        "    name = app[0]\n",
        "    if name in unique_apps:\n",
        "        duplicate_apps.append(name)\n",
        "    else:\n",
        "        unique_apps.append(name)\n",
        "\n",
        "print('Number of duplicate apps:', len(duplicate_apps))\n",
        "print('\\n')\n",
        "print('Examples of duplicate apps:', duplicate_apps[:15])"
      ],
      "metadata": {
        "colab": {
          "base_uri": "https://localhost:8080/"
        },
        "id": "qVRt0Q2pq4_4",
        "outputId": "50fa3ecd-df99-4aa6-a69c-77d9d368fcde"
      },
      "execution_count": null,
      "outputs": [
        {
          "output_type": "stream",
          "name": "stdout",
          "text": [
            "Number of duplicate apps: 1181\n",
            "\n",
            "\n",
            "Examples of duplicate apps: ['Quick PDF Scanner + OCR FREE', 'Box', 'Google My Business', 'ZOOM Cloud Meetings', 'join.me - Simple Meetings', 'Box', 'Zenefits', 'Google Ads', 'Google My Business', 'Slack', 'FreshBooks Classic', 'Insightly CRM', 'QuickBooks Accounting: Invoicing & Expenses', 'HipChat - Chat Built for Teams', 'Xero Accounting Software']\n"
          ]
        }
      ]
    },
    {
      "cell_type": "code",
      "source": [
        "reviews_max = {}\n",
        "\n",
        "for app in android:\n",
        "    name = app[0]\n",
        "    n_reviews = float(app[3])\n",
        "\n",
        "    if name in reviews_max and reviews_max[name] < n_reviews:\n",
        "        reviews_max[name] = n_reviews\n",
        "\n",
        "    elif name not in reviews_max:\n",
        "        reviews_max[name] = n_reviews"
      ],
      "metadata": {
        "id": "p-I6JtrOq6aJ"
      },
      "execution_count": null,
      "outputs": []
    },
    {
      "cell_type": "code",
      "source": [
        "print('Expected length:', len(android) - 1181)\n",
        "print('Actual length:', len(reviews_max))"
      ],
      "metadata": {
        "colab": {
          "base_uri": "https://localhost:8080/"
        },
        "id": "lVtwrgqvq7x1",
        "outputId": "3836759d-6e2b-4c32-a47b-058e42d9477a"
      },
      "execution_count": null,
      "outputs": [
        {
          "output_type": "stream",
          "name": "stdout",
          "text": [
            "Expected length: 9659\n",
            "Actual length: 9659\n"
          ]
        }
      ]
    },
    {
      "cell_type": "code",
      "source": [
        "android_clean = []\n",
        "already_added = []\n",
        "\n",
        "for app in android:\n",
        "    name = app[0]\n",
        "    n_reviews = float(app[3])\n",
        "\n",
        "    if (reviews_max[name] == n_reviews) and (name not in already_added):\n",
        "        android_clean.append(app)\n",
        "        already_added.append(name) # make sure this is inside the if block"
      ],
      "metadata": {
        "id": "C5NR8k5oq88J"
      },
      "execution_count": null,
      "outputs": []
    },
    {
      "cell_type": "code",
      "source": [
        "explore_data(android_clean, 0, 3, True)\n"
      ],
      "metadata": {
        "colab": {
          "base_uri": "https://localhost:8080/"
        },
        "id": "OQqAeGF7q-UY",
        "outputId": "51beae45-743f-478b-94c4-8476beb92170"
      },
      "execution_count": null,
      "outputs": [
        {
          "output_type": "stream",
          "name": "stdout",
          "text": [
            "['Photo Editor & Candy Camera & Grid & ScrapBook', 'ART_AND_DESIGN', '4.1', '159', '19M', '10,000+', 'Free', '0', 'Everyone', 'Art & Design', 'January 7, 2018', '1.0.0', '4.0.3 and up']\n",
            "\n",
            "\n",
            "['U Launcher Lite – FREE Live Cool Themes, Hide Apps', 'ART_AND_DESIGN', '4.7', '87510', '8.7M', '5,000,000+', 'Free', '0', 'Everyone', 'Art & Design', 'August 1, 2018', '1.2.4', '4.0.3 and up']\n",
            "\n",
            "\n",
            "['Sketch - Draw & Paint', 'ART_AND_DESIGN', '4.5', '215644', '25M', '50,000,000+', 'Free', '0', 'Teen', 'Art & Design', 'June 8, 2018', 'Varies with device', '4.2 and up']\n",
            "\n",
            "\n",
            "Number of rows: 9659\n",
            "Number of columns: 13\n"
          ]
        }
      ]
    },
    {
      "cell_type": "code",
      "source": [
        "print(ios[813][1])\n",
        "print(ios[6731][1])\n",
        "\n",
        "print(android_clean[4412][0])\n",
        "print(android_clean[7940][0])"
      ],
      "metadata": {
        "colab": {
          "base_uri": "https://localhost:8080/"
        },
        "id": "hEVIhIdEq_1R",
        "outputId": "038eaaa5-68e9-4521-b179-9a0e2964912b"
      },
      "execution_count": null,
      "outputs": [
        {
          "output_type": "stream",
          "name": "stdout",
          "text": [
            "爱奇艺PPS -《欢乐颂2》电视剧热播\n",
            "【脱出ゲーム】絶対に最後までプレイしないで 〜謎解き＆ブロックパズル〜\n",
            "中国語 AQリスニング\n",
            "لعبة تقدر تربح DZ\n"
          ]
        }
      ]
    },
    {
      "cell_type": "code",
      "source": [
        "def is_english(string):\n",
        "\n",
        "    for character in string:\n",
        "        if ord(character) > 127:\n",
        "            return False\n",
        "\n",
        "    return True\n",
        "\n",
        "print(is_english('Instagram'))\n",
        "print(is_english('爱奇艺PPS -《欢乐颂2》电视剧热播'))"
      ],
      "metadata": {
        "colab": {
          "base_uri": "https://localhost:8080/"
        },
        "id": "w85mC9CYrBRI",
        "outputId": "71734ac1-0320-451b-9fab-e5280c93bc10"
      },
      "execution_count": null,
      "outputs": [
        {
          "output_type": "stream",
          "name": "stdout",
          "text": [
            "True\n",
            "False\n"
          ]
        }
      ]
    },
    {
      "cell_type": "code",
      "source": [
        "print(is_english('Docs To Go™ Free Office Suite'))\n",
        "print(is_english('Instachat 😜'))\n",
        "\n",
        "print(ord('™'))\n",
        "print(ord('😜'))"
      ],
      "metadata": {
        "colab": {
          "base_uri": "https://localhost:8080/"
        },
        "id": "3YLb7Y4grCqP",
        "outputId": "57449c4e-12c2-4c9a-aaef-2a839e383a90"
      },
      "execution_count": null,
      "outputs": [
        {
          "output_type": "stream",
          "name": "stdout",
          "text": [
            "False\n",
            "False\n",
            "8482\n",
            "128540\n"
          ]
        }
      ]
    },
    {
      "cell_type": "code",
      "source": [
        "def is_english(string):\n",
        "    non_ascii = 0\n",
        "\n",
        "    for character in string:\n",
        "        if ord(character) > 127:\n",
        "            non_ascii += 1\n",
        "\n",
        "    if non_ascii > 3:\n",
        "        return False\n",
        "    else:\n",
        "        return True\n",
        "\n",
        "print(is_english('Docs To Go™ Free Office Suite'))\n",
        "print(is_english('Instachat 😜'))"
      ],
      "metadata": {
        "colab": {
          "base_uri": "https://localhost:8080/"
        },
        "id": "5PjYfyXjrD8U",
        "outputId": "f83f9b6a-4d7a-429c-f1dd-1f663a34388b"
      },
      "execution_count": null,
      "outputs": [
        {
          "output_type": "stream",
          "name": "stdout",
          "text": [
            "True\n",
            "True\n"
          ]
        }
      ]
    },
    {
      "cell_type": "code",
      "source": [
        "android_english = []\n",
        "ios_english = []\n",
        "\n",
        "for app in android_clean:\n",
        "    name = app[0]\n",
        "    if is_english(name):\n",
        "        android_english.append(app)\n",
        "\n",
        "for app in ios:\n",
        "    name = app[1]\n",
        "    if is_english(name):\n",
        "        ios_english.append(app)\n",
        "\n",
        "explore_data(android_english, 0, 3, True)\n",
        "print('\\n')\n",
        "explore_data(ios_english, 0, 3, True)"
      ],
      "metadata": {
        "colab": {
          "base_uri": "https://localhost:8080/"
        },
        "id": "xcgX_AFDrFgo",
        "outputId": "cd6458d9-d7f1-4542-b055-08614161f70b"
      },
      "execution_count": null,
      "outputs": [
        {
          "output_type": "stream",
          "name": "stdout",
          "text": [
            "['Photo Editor & Candy Camera & Grid & ScrapBook', 'ART_AND_DESIGN', '4.1', '159', '19M', '10,000+', 'Free', '0', 'Everyone', 'Art & Design', 'January 7, 2018', '1.0.0', '4.0.3 and up']\n",
            "\n",
            "\n",
            "['U Launcher Lite – FREE Live Cool Themes, Hide Apps', 'ART_AND_DESIGN', '4.7', '87510', '8.7M', '5,000,000+', 'Free', '0', 'Everyone', 'Art & Design', 'August 1, 2018', '1.2.4', '4.0.3 and up']\n",
            "\n",
            "\n",
            "['Sketch - Draw & Paint', 'ART_AND_DESIGN', '4.5', '215644', '25M', '50,000,000+', 'Free', '0', 'Teen', 'Art & Design', 'June 8, 2018', 'Varies with device', '4.2 and up']\n",
            "\n",
            "\n",
            "Number of rows: 9614\n",
            "Number of columns: 13\n",
            "\n",
            "\n",
            "['284882215', 'Facebook', '389879808', 'USD', '0.0', '2974676', '212', '3.5', '3.5', '95.0', '4+', 'Social Networking', '37', '1', '29', '1']\n",
            "\n",
            "\n",
            "['389801252', 'Instagram', '113954816', 'USD', '0.0', '2161558', '1289', '4.5', '4.0', '10.23', '12+', 'Photo & Video', '37', '0', '29', '1']\n",
            "\n",
            "\n",
            "['529479190', 'Clash of Clans', '116476928', 'USD', '0.0', '2130805', '579', '4.5', '4.5', '9.24.12', '9+', 'Games', '38', '5', '18', '1']\n",
            "\n",
            "\n",
            "Number of rows: 6183\n",
            "Number of columns: 16\n"
          ]
        }
      ]
    },
    {
      "cell_type": "code",
      "source": [
        "android_final = []\n",
        "ios_final = []\n",
        "\n",
        "for app in android_english:\n",
        "    price = app[7]\n",
        "    if price == '0':\n",
        "        android_final.append(app)\n",
        "\n",
        "for app in ios_english:\n",
        "    price = app[4]\n",
        "    if price == '0.0':\n",
        "        ios_final.append(app)\n",
        "\n",
        "print(len(android_final))\n",
        "print(len(ios_final))"
      ],
      "metadata": {
        "colab": {
          "base_uri": "https://localhost:8080/"
        },
        "id": "nNwreUojrHBq",
        "outputId": "e799f912-db9e-4eff-ab6f-3f0315c3ddc0"
      },
      "execution_count": null,
      "outputs": [
        {
          "output_type": "stream",
          "name": "stdout",
          "text": [
            "8864\n",
            "3222\n"
          ]
        }
      ]
    },
    {
      "cell_type": "markdown",
      "source": [
        "##Automat google"
      ],
      "metadata": {
        "id": "AX7_rlCK5-RV"
      }
    },
    {
      "cell_type": "code",
      "source": [
        "!wget https://dq-content.s3.amazonaws.com/350/googleplaystore.csv -O google_wget.csv"
      ],
      "metadata": {
        "colab": {
          "base_uri": "https://localhost:8080/"
        },
        "id": "_4KaVd3q71rj",
        "outputId": "c657484c-44de-4c8a-cdc3-b51d83b4bdd7"
      },
      "execution_count": null,
      "outputs": [
        {
          "output_type": "stream",
          "name": "stdout",
          "text": [
            "--2025-05-01 09:27:32--  https://dq-content.s3.amazonaws.com/350/googleplaystore.csv\n",
            "Resolving dq-content.s3.amazonaws.com (dq-content.s3.amazonaws.com)... 3.5.24.52, 54.231.170.185, 3.5.13.146, ...\n",
            "Connecting to dq-content.s3.amazonaws.com (dq-content.s3.amazonaws.com)|3.5.24.52|:443... connected.\n",
            "HTTP request sent, awaiting response... 200 OK\n",
            "Length: 1349314 (1.3M) [text/csv]\n",
            "Saving to: ‘google_wget.csv’\n",
            "\n",
            "google_wget.csv     100%[===================>]   1.29M  --.-KB/s    in 0.1s    \n",
            "\n",
            "2025-05-01 09:27:33 (9.65 MB/s) - ‘google_wget.csv’ saved [1349314/1349314]\n",
            "\n"
          ]
        }
      ]
    },
    {
      "cell_type": "code",
      "source": [
        "from csv import reader\n",
        "def surowy(x):\n",
        "    with open(x, encoding='utf-8') as f:\n",
        "        dane = list(reader(f))\n",
        "    return dane[1:]"
      ],
      "metadata": {
        "id": "XLhCprS_6DIA"
      },
      "execution_count": null,
      "outputs": []
    },
    {
      "cell_type": "code",
      "source": [
        "def czystka(data):\n",
        "    if not data:\n",
        "        return data\n",
        "    reference_length = len(data[0])\n",
        "    return [row for row in data if len(row) == reference_length]"
      ],
      "metadata": {
        "id": "fUkVtQt-9RKu"
      },
      "execution_count": null,
      "outputs": []
    },
    {
      "cell_type": "code",
      "source": [
        "def dup_del(data):\n",
        "    reviews_max = {}\n",
        "    for row in data:\n",
        "        name, reviews = row[0], float(row[3])\n",
        "        if name not in reviews_max or reviews_max[name] < reviews:\n",
        "            reviews_max[name] = reviews\n",
        "    clean = []\n",
        "    already_added = set()\n",
        "    for row in data:\n",
        "        name, reviews = row[0], float(row[3])\n",
        "        if reviews == reviews_max[name] and name not in already_added:\n",
        "            clean.append(row)\n",
        "            already_added.add(name)\n",
        "    return clean"
      ],
      "metadata": {
        "id": "DIt5Vn1ABC5n"
      },
      "execution_count": null,
      "outputs": []
    },
    {
      "cell_type": "code",
      "source": [
        "def is_english(name):\n",
        "    return sum(1 for char in name if ord(char) > 127) <= 3\n",
        "def nonEnglishgugle(data):\n",
        "    return [row for row in data if is_english(row[0])]"
      ],
      "metadata": {
        "id": "ZhPNsiBwG6tm"
      },
      "execution_count": null,
      "outputs": []
    },
    {
      "cell_type": "code",
      "source": [
        "def darmo(data, col, dolar):\n",
        "    return [row for row in data if row[col] == dolar]"
      ],
      "metadata": {
        "id": "2MGQxqWMMFet"
      },
      "execution_count": null,
      "outputs": []
    },
    {
      "cell_type": "code",
      "source": [
        "def google_ready(filepath):\n",
        "    dane1 = surowy(filepath)\n",
        "    dane2 = czystka(dane1)\n",
        "    dane3 = dup_del(dane2)\n",
        "    dane4 = nonEnglishgugle(dane3)\n",
        "    google_English_free = darmo(dane4, 7, '0')\n",
        "    return google_English_free\n"
      ],
      "metadata": {
        "id": "Deonv-c3ExQq"
      },
      "execution_count": null,
      "outputs": []
    },
    {
      "cell_type": "markdown",
      "source": [
        "##Automat Apple"
      ],
      "metadata": {
        "id": "lB_exx5MGM7L"
      }
    },
    {
      "cell_type": "code",
      "source": [
        "!wget https://dq-content.s3.amazonaws.com/350/AppleStore.csv -O apple_wget.csv"
      ],
      "metadata": {
        "colab": {
          "base_uri": "https://localhost:8080/"
        },
        "id": "zglU6pihSXbf",
        "outputId": "96e3d4ec-bd54-4c86-e179-558adc09adf4"
      },
      "execution_count": null,
      "outputs": [
        {
          "output_type": "stream",
          "name": "stdout",
          "text": [
            "--2025-05-01 09:27:37--  https://dq-content.s3.amazonaws.com/350/AppleStore.csv\n",
            "Resolving dq-content.s3.amazonaws.com (dq-content.s3.amazonaws.com)... 54.231.226.249, 54.231.204.105, 3.5.28.253, ...\n",
            "Connecting to dq-content.s3.amazonaws.com (dq-content.s3.amazonaws.com)|54.231.226.249|:443... connected.\n",
            "HTTP request sent, awaiting response... 200 OK\n",
            "Length: 725761 (709K) [text/csv]\n",
            "Saving to: ‘apple_wget.csv’\n",
            "\n",
            "\rapple_wget.csv        0%[                    ]       0  --.-KB/s               \rapple_wget.csv      100%[===================>] 708.75K  --.-KB/s    in 0.1s    \n",
            "\n",
            "2025-05-01 09:27:37 (7.19 MB/s) - ‘apple_wget.csv’ saved [725761/725761]\n",
            "\n"
          ]
        }
      ]
    },
    {
      "cell_type": "code",
      "source": [
        "from csv import reader\n",
        "def surowe_jablo(x):\n",
        "    with open(x, encoding='utf-8') as f:\n",
        "        reader_obj = reader(f)\n",
        "        next(reader_obj)\n",
        "        return list(reader_obj)"
      ],
      "metadata": {
        "id": "G68LmKOlGcpD"
      },
      "execution_count": null,
      "outputs": []
    },
    {
      "cell_type": "code",
      "source": [
        "def czystka_jablko(data):\n",
        "    if not data:\n",
        "        return data\n",
        "    reference_length = len(data[0])\n",
        "    return [row for row in data if len(row) == reference_length]"
      ],
      "metadata": {
        "id": "iWDMkzMPJB4N"
      },
      "execution_count": null,
      "outputs": []
    },
    {
      "cell_type": "code",
      "source": [
        "def is_english(name):\n",
        "    return sum(1 for char in name if ord(char) > 127) <= 3\n",
        "def nonEnglishapple(data):\n",
        "    return [row for row in data if is_english(row[1])]"
      ],
      "metadata": {
        "id": "9Hn7nhsrJMyT"
      },
      "execution_count": null,
      "outputs": []
    },
    {
      "cell_type": "code",
      "source": [
        "def darmo_jablko(data, col, dolar):\n",
        "    return [row for row in data if row[col] == dolar]"
      ],
      "metadata": {
        "id": "c-C3gRnyMX87"
      },
      "execution_count": null,
      "outputs": []
    },
    {
      "cell_type": "code",
      "source": [
        "def apple_ready(filepath):\n",
        "    dane1 = surowe_jablo(filepath)\n",
        "    dane2 = czystka_jablko(dane1)\n",
        "    dane3 = dane2\n",
        "    dane4 = nonEnglishapple(dane3)\n",
        "    apple_English_free = darmo_jablko(dane4, 4, '0.0')\n",
        "    return apple_English_free\n"
      ],
      "metadata": {
        "id": "QS5teqtqIKOx"
      },
      "execution_count": null,
      "outputs": []
    },
    {
      "cell_type": "markdown",
      "source": [
        "##Weryfikacja"
      ],
      "metadata": {
        "id": "e6DsAQ1sGSgz"
      }
    },
    {
      "cell_type": "code",
      "source": [
        "my_out = google_ready('google_wget.csv')\n"
      ],
      "metadata": {
        "id": "Mn9M4ehTGXUY"
      },
      "execution_count": null,
      "outputs": []
    },
    {
      "cell_type": "code",
      "source": [
        "my_out_apple = apple_ready('apple_wget.csv')\n"
      ],
      "metadata": {
        "id": "B5Kx-1RfLfiP"
      },
      "execution_count": null,
      "outputs": []
    },
    {
      "cell_type": "code",
      "source": [
        "def verify_ready(data1, android_final):\n",
        "  google_OK = data1 == android_final\n",
        "  print(google_OK)\n",
        "  return google_OK"
      ],
      "metadata": {
        "id": "Yuf8c4-YGYW2"
      },
      "execution_count": null,
      "outputs": []
    },
    {
      "cell_type": "code",
      "source": [
        "verify_ready(my_out,android_final)"
      ],
      "metadata": {
        "colab": {
          "base_uri": "https://localhost:8080/"
        },
        "id": "qYCOficmGW49",
        "outputId": "05e33211-5f77-4be6-d047-62675c361d5b"
      },
      "execution_count": null,
      "outputs": [
        {
          "output_type": "stream",
          "name": "stdout",
          "text": [
            "True\n"
          ]
        },
        {
          "output_type": "execute_result",
          "data": {
            "text/plain": [
              "True"
            ]
          },
          "metadata": {},
          "execution_count": 47
        }
      ]
    },
    {
      "cell_type": "code",
      "source": [
        "def verify_ready(data2, android_final):\n",
        "  apple_OK = data2 == ios_final\n",
        "  print(apple_OK)\n",
        "  return apple_OK"
      ],
      "metadata": {
        "id": "iuqlZAgGOcEx"
      },
      "execution_count": null,
      "outputs": []
    },
    {
      "cell_type": "code",
      "source": [
        "verify_ready(my_out_apple,ios_final)"
      ],
      "metadata": {
        "colab": {
          "base_uri": "https://localhost:8080/"
        },
        "id": "_deg427FO0_m",
        "outputId": "e1ded2b6-a744-4c61-c97a-6b1448234012"
      },
      "execution_count": null,
      "outputs": [
        {
          "output_type": "stream",
          "name": "stdout",
          "text": [
            "True\n"
          ]
        },
        {
          "output_type": "execute_result",
          "data": {
            "text/plain": [
              "True"
            ]
          },
          "metadata": {},
          "execution_count": 51
        }
      ]
    },
    {
      "cell_type": "markdown",
      "source": [
        "##Lepsze funkcje"
      ],
      "metadata": {
        "id": "_ayu_qvZJetT"
      }
    },
    {
      "cell_type": "markdown",
      "source": [
        "###Funkcje"
      ],
      "metadata": {
        "id": "fEg_9xvbJmgs"
      }
    },
    {
      "cell_type": "code",
      "source": [
        "def przetworz_i_sortuj_tekst(dane_tekstowe):\n",
        "    wynik = {}\n",
        "    linie = dane_tekstowe.strip().split('\\n')\n",
        "    for linia in linie:\n",
        "        klucz, wartosc = map(str.strip, linia.split(':'))\n",
        "        wynik[klucz] = round(float(wartosc))\n",
        "    return sorted(wynik.items(), key=lambda para: para[1], reverse=True)"
      ],
      "metadata": {
        "id": "zRO5AMpqJl5H"
      },
      "execution_count": null,
      "outputs": []
    },
    {
      "cell_type": "code",
      "source": [
        "def zaokraglij_i_sortuj_slownik(slownik):\n",
        "    nowy_slownik = {klucz: round(float(wartosc)) for klucz, wartosc in slownik.items()}\n",
        "    return sorted(nowy_slownik.items(), key=lambda element: element[1], reverse=True)"
      ],
      "metadata": {
        "id": "XtP58-7rKCwW"
      },
      "execution_count": null,
      "outputs": []
    },
    {
      "cell_type": "code",
      "source": [
        "def porownaj_slowniki(slownik1, slownik2):\n",
        "    return slownik1 == slownik2"
      ],
      "metadata": {
        "id": "Lp9Va5aMKFXf"
      },
      "execution_count": null,
      "outputs": []
    },
    {
      "cell_type": "code",
      "source": [
        "def freq_table(dane, kolumna_index):\n",
        "    tabela = {}\n",
        "    for rekord in dane:\n",
        "        klucz = rekord[kolumna_index]\n",
        "        tabela[klucz] = tabela.get(klucz, 0) + 1\n",
        "    return tabela\n"
      ],
      "metadata": {
        "id": "F2N7HJYlLqcK"
      },
      "execution_count": null,
      "outputs": []
    },
    {
      "cell_type": "code",
      "source": [
        "def apple(final_apple):\n",
        "  freq_apple = freq_table(final_apple,11)\n",
        "  dic = {}\n",
        "  for i in freq_apple:\n",
        "    total = 0\n",
        "    len_genre = 0\n",
        "    for j in final_apple:\n",
        "        genre_app = j[11]\n",
        "        if genre_app == i:\n",
        "            n_ratings = float(j[5])\n",
        "            total += n_ratings\n",
        "            len_genre += 1\n",
        "    avg_n = total / len_genre\n",
        "    dic[i] = avg_n\n",
        "  return dic"
      ],
      "metadata": {
        "id": "fG16O1wxKhy_"
      },
      "execution_count": null,
      "outputs": []
    },
    {
      "cell_type": "code",
      "source": [
        "def google(final_google):\n",
        "  freq_google = freq_table(final_google, 1)\n",
        "  dic = {}\n",
        "  for i in freq_google:\n",
        "      total = 0\n",
        "      len_category = 0\n",
        "      for j in final_google:\n",
        "          category_app = j[1]\n",
        "          if category_app == i:\n",
        "              n_installs = j[5]\n",
        "              n_installs = n_installs.replace(',', '').replace('+', '')\n",
        "              total += float(n_installs)\n",
        "              len_category += 1\n",
        "      avg_n = total / len_category\n",
        "      dic[i] = avg_n\n",
        "  return dic"
      ],
      "metadata": {
        "id": "-iT1BUHWKii3"
      },
      "execution_count": null,
      "outputs": []
    },
    {
      "cell_type": "markdown",
      "source": [
        "##Polepszenie 12.2"
      ],
      "metadata": {
        "id": "ogDlCKBBVz9N"
      }
    },
    {
      "cell_type": "code",
      "source": [
        "unich_12_2 = '''\n",
        "  Social Networking : 71548.34905660378\n",
        "  Photo & Video : 28441.54375\n",
        "  Games : 22788.6696905016\n",
        "  Music : 57326.530303030304\n",
        "  Reference : 74942.11111111111\n",
        "  Health & Fitness : 23298.015384615384\n",
        "  Weather : 52279.892857142855\n",
        "  Utilities : 18684.456790123455\n",
        "  Travel : 28243.8\n",
        "  Shopping : 26919.690476190477\n",
        "  News : 21248.023255813954\n",
        "  Navigation : 86090.33333333333\n",
        "  Lifestyle : 16485.764705882353\n",
        "  Entertainment : 14029.830708661417\n",
        "  Food & Drink : 33333.92307692308\n",
        "  Sports : 23008.898550724636\n",
        "  Book : 39758.5\n",
        "  Finance : 31467.944444444445\n",
        "  Education : 7003.983050847458\n",
        "  Productivity : 21028.410714285714\n",
        "  Business : 7491.117647058823\n",
        "  Catalogs : 4004.0\n",
        "  Medical : 612.0\n",
        "  '''"
      ],
      "metadata": {
        "id": "X06AqAoeKH0H"
      },
      "execution_count": null,
      "outputs": []
    },
    {
      "cell_type": "code",
      "source": [
        "unich12_2 = przetworz_i_sortuj_tekst(unich_12_2)"
      ],
      "metadata": {
        "id": "DuEiBJivKL9s"
      },
      "execution_count": null,
      "outputs": []
    },
    {
      "cell_type": "code",
      "source": [
        "my12_2 = zaokraglij_i_sortuj_slownik(apple(apple_ready('apple_wget.csv')))"
      ],
      "metadata": {
        "id": "3ljvbfITKY5m"
      },
      "execution_count": null,
      "outputs": []
    },
    {
      "cell_type": "code",
      "source": [
        "print(porownaj_slowniki(unich12_2,my12_2))"
      ],
      "metadata": {
        "colab": {
          "base_uri": "https://localhost:8080/"
        },
        "id": "T0k3eg7BLu5W",
        "outputId": "b88e0692-ac28-464f-da0a-7108c4c5b899"
      },
      "execution_count": null,
      "outputs": [
        {
          "output_type": "stream",
          "name": "stdout",
          "text": [
            "True\n"
          ]
        }
      ]
    },
    {
      "cell_type": "markdown",
      "source": [
        "##Polepszenie 13.2"
      ],
      "metadata": {
        "id": "lXKbADjmV3vB"
      }
    },
    {
      "cell_type": "code",
      "source": [
        "unich_13_2 = '''\n",
        "ART_AND_DESIGN : 1986335.0877192982\n",
        "AUTO_AND_VEHICLES : 647317.8170731707\n",
        "BEAUTY : 513151.88679245283\n",
        "BOOKS_AND_REFERENCE : 8767811.894736841\n",
        "BUSINESS : 1712290.1474201474\n",
        "COMICS : 817657.2727272727\n",
        "COMMUNICATION : 38456119.167247385\n",
        "DATING : 854028.8303030303\n",
        "EDUCATION : 1833495.145631068\n",
        "ENTERTAINMENT : 11640705.88235294\n",
        "EVENTS : 253542.22222222222\n",
        "FINANCE : 1387692.475609756\n",
        "FOOD_AND_DRINK : 1924897.7363636363\n",
        "HEALTH_AND_FITNESS : 4188821.9853479853\n",
        "HOUSE_AND_HOME : 1331540.5616438356\n",
        "LIBRARIES_AND_DEMO : 638503.734939759\n",
        "LIFESTYLE : 1437816.2687861272\n",
        "GAME : 15588015.603248259\n",
        "FAMILY : 3695641.8198090694\n",
        "MEDICAL : 120550.61980830671\n",
        "SOCIAL : 23253652.127118643\n",
        "SHOPPING : 7036877.311557789\n",
        "PHOTOGRAPHY : 17840110.40229885\n",
        "SPORTS : 3638640.1428571427\n",
        "TRAVEL_AND_LOCAL : 13984077.710144928\n",
        "TOOLS : 10801391.298666667\n",
        "PERSONALIZATION : 5201482.6122448975\n",
        "PRODUCTIVITY : 16787331.344927534\n",
        "PARENTING : 542603.6206896552\n",
        "WEATHER : 5074486.197183099\n",
        "VIDEO_PLAYERS : 24727872.452830188\n",
        "NEWS_AND_MAGAZINES : 9549178.467741935\n",
        "MAPS_AND_NAVIGATION : 4056941.7741935486\n",
        "'''"
      ],
      "metadata": {
        "id": "4USk3xgdME5D"
      },
      "execution_count": null,
      "outputs": []
    },
    {
      "cell_type": "code",
      "source": [
        "unich13_2 = przetworz_i_sortuj_tekst(unich_13_2)"
      ],
      "metadata": {
        "id": "k_cFTDdDMG85"
      },
      "execution_count": null,
      "outputs": []
    },
    {
      "cell_type": "code",
      "source": [
        "my13_2 = zaokraglij_i_sortuj_slownik(google(google_ready('google_wget.csv')))"
      ],
      "metadata": {
        "id": "gm54y77bMLFD"
      },
      "execution_count": null,
      "outputs": []
    },
    {
      "cell_type": "code",
      "source": [
        "print(porownaj_slowniki(unich13_2,my13_2))"
      ],
      "metadata": {
        "colab": {
          "base_uri": "https://localhost:8080/"
        },
        "id": "_zzQTkPSMMKU",
        "outputId": "4e669879-b0aa-4a51-9f34-478958661e20"
      },
      "execution_count": null,
      "outputs": [
        {
          "output_type": "stream",
          "name": "stdout",
          "text": [
            "True\n"
          ]
        }
      ]
    },
    {
      "cell_type": "markdown",
      "source": [
        "##Data wykonania raportu"
      ],
      "metadata": {
        "id": "hdrqglD-T3YA"
      }
    },
    {
      "cell_type": "code",
      "source": [
        "from datetime import datetime\n",
        "import pytz\n",
        "poland_time = pytz.timezone(\"Europe/Warsaw\")\n",
        "current_time = datetime.now(poland_time)\n",
        "print(\"Raport ósmy został wykonany:\", current_time.strftime(\"%Y-%m-%d %H:%M:%S\"))"
      ],
      "metadata": {
        "colab": {
          "base_uri": "https://localhost:8080/"
        },
        "id": "h5M6ywabT5oH",
        "outputId": "3d4e4820-1dcd-470e-b717-3da14f18702a"
      },
      "execution_count": null,
      "outputs": [
        {
          "output_type": "stream",
          "name": "stdout",
          "text": [
            "Raport ósmy został wykonany: 2025-05-01 11:34:15\n"
          ]
        }
      ]
    }
  ]
}